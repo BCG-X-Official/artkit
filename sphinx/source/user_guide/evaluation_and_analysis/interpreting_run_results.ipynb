{
 "cells": [
  {
   "cell_type": "markdown",
   "id": "ef022dcb-8205-426b-b7ec-80cc0b705568",
   "metadata": {},
   "source": [
    "# Interpreting Run Results"
   ]
  },
  {
   "cell_type": "markdown",
   "id": "4fda3738-96e2-42c4-b52f-fe2488d9a7c7",
   "metadata": {},
   "source": [
    "## Introduction\n",
    "\n",
    "The output of an ARKIT flow is a `RunResult` object. This guide will help you to work with the run results effectively.\n",
    "\n",
    "A run result stores the output of an ARTKIT flow as a list of dictionaries, each representing distinct path through the flow. The dictionaries are nested, with the outer keys corresponding to the names of steps, and the values corresponding to attribute-value mappings produced by each step.\n",
    "\n",
    "The easiest way to get comfortable working with `RunResult` objects is to roll up your sleeves and work with an example."
   ]
  },
  {
   "cell_type": "markdown",
   "id": "d6e8e4c4-88ea-4802-a0a5-c0d32bf11246",
   "metadata": {},
   "source": [
    "## Working with run results"
   ]
  },
  {
   "cell_type": "markdown",
   "id": "62ec7380-dcb8-4d89-bfd0-0e866874cd67",
   "metadata": {},
   "source": [
    "The data stored within a `RunResult` object can be accessed in the following ways:\n",
    "\n",
    "- As an iterable of dictionaries, where each dictionary represents the output of the flow for a single input.\n",
    "- By index, where the index corresponds to the path through the flow, and the value is a list of outputs along that path for each input.\n",
    "- By transforming to a pandas DataFrame\n",
    "\n",
    "Let's create a simple workflow that returns a `RunResult`:"
   ]
  },
  {
   "cell_type": "code",
   "execution_count": 5,
   "id": "91bd6079-af8b-4a73-bb0a-784b7061c12e",
   "metadata": {},
   "outputs": [
    {
     "data": {
      "text/html": [
       "<pre>RunResult(\n",
       "    [\n",
       "        {'input': {'a': 1, 'b': 2}, 'increment': {'by': 1, 'a': 2}},\n",
       "        {'input': {'a': 2, 'b': 1}, 'increment': {'by': 1, 'a': 3}}\n",
       "    ],\n",
       "    [\n",
       "        {'input': {'a': 1, 'b': 2}, 'increment': {'by': 2, 'a': 3}},\n",
       "        {'input': {'a': 2, 'b': 1}, 'increment': {'by': 2, 'a': 4}}\n",
       "    ]\n",
       ")\n",
       "</pre>\n"
      ],
      "text/plain": [
       "RunResult(\n",
       "    [\n",
       "        {'input': {'a': 1, 'b': 2}, 'increment': {'by': 1, 'a': 2}},\n",
       "        {'input': {'a': 2, 'b': 1}, 'increment': {'by': 1, 'a': 3}}\n",
       "    ],\n",
       "    [\n",
       "        {'input': {'a': 1, 'b': 2}, 'increment': {'by': 2, 'a': 3}},\n",
       "        {'input': {'a': 2, 'b': 1}, 'increment': {'by': 2, 'a': 4}}\n",
       "    ]\n",
       ")"
      ]
     },
     "execution_count": 5,
     "metadata": {},
     "output_type": "execute_result"
    }
   ],
   "source": [
    "import pandas as pd\n",
    "pd.set_option(\"display.max_colwidth\", None)\n",
    "\n",
    "import artkit.api as ak\n",
    "\n",
    "# Define an increment function\n",
    "def increment(a: int, by: int):\n",
    "    return dict(by=by, a=a + by)\n",
    "\n",
    "# Construct and run the flow\n",
    "input = [dict(a=1, b=2), dict(a=2, b=1)]\n",
    "steps = ak.parallel(\n",
    "    ak.step(\"increment\", increment, by=1), \n",
    "    ak.step(\"increment\", increment, by=2)\n",
    ")\n",
    "result = ak.run(input=input, steps=steps)\n",
    "\n",
    "# Display the RunResult\n",
    "result"
   ]
  },
  {
   "cell_type": "markdown",
   "id": "59a68c47-354f-4171-ad03-347dedddbc95",
   "metadata": {},
   "source": [
    "Since our flow consisted of two inputs with two paths, the `RunResult` has four entries. We can iterate overall all results by calling `get_outputs`, or iterate over the results of a path by calling `get_outputs_per_paths`: "
   ]
  },
  {
   "cell_type": "code",
   "execution_count": 6,
   "id": "b640ba0e-0195-41c3-8815-55d7722d4130",
   "metadata": {},
   "outputs": [
    {
     "name": "stdout",
     "output_type": "stream",
     "text": [
      "{'input': {'a': 1, 'b': 2}, 'increment': {'by': 1, 'a': 2}}\n",
      "{'input': {'a': 2, 'b': 1}, 'increment': {'by': 1, 'a': 3}}\n",
      "{'input': {'a': 1, 'b': 2}, 'increment': {'by': 2, 'a': 3}}\n",
      "{'input': {'a': 2, 'b': 1}, 'increment': {'by': 2, 'a': 4}}\n"
     ]
    }
   ],
   "source": [
    "for output in result.get_outputs():\n",
    "    print(output)"
   ]
  },
  {
   "cell_type": "code",
   "execution_count": 7,
   "id": "03888f09-654b-4737-84b6-63f0973c7d33",
   "metadata": {},
   "outputs": [
    {
     "name": "stdout",
     "output_type": "stream",
     "text": [
      "[{'input': {'a': 1, 'b': 2}, 'increment': {'by': 1, 'a': 2}}, {'input': {'a': 2, 'b': 1}, 'increment': {'by': 1, 'a': 3}}]\n",
      "[{'input': {'a': 1, 'b': 2}, 'increment': {'by': 2, 'a': 3}}, {'input': {'a': 2, 'b': 1}, 'increment': {'by': 2, 'a': 4}}]\n"
     ]
    }
   ],
   "source": [
    "for path_output in result.get_outputs_per_path():\n",
    "    print([output for output in path_output])"
   ]
  },
  {
   "cell_type": "markdown",
   "id": "8b37f13b-76ab-44ce-a654-ccc2a2967cec",
   "metadata": {},
   "source": [
    "Finally, we can convert the results into a pandas DataFrame by calling `to_frame`. The DataFrame index corresponds to the input index, and the columns correspond to the step names and outputs:"
   ]
  },
  {
   "cell_type": "code",
   "execution_count": 8,
   "id": "66d9330d-7789-46a5-a1ea-85ead2390597",
   "metadata": {},
   "outputs": [
    {
     "data": {
      "text/html": [
       "<div>\n",
       "<style scoped>\n",
       "    .dataframe tbody tr th:only-of-type {\n",
       "        vertical-align: middle;\n",
       "    }\n",
       "\n",
       "    .dataframe tbody tr th {\n",
       "        vertical-align: top;\n",
       "    }\n",
       "\n",
       "    .dataframe thead tr th {\n",
       "        text-align: left;\n",
       "    }\n",
       "\n",
       "    .dataframe thead tr:last-of-type th {\n",
       "        text-align: right;\n",
       "    }\n",
       "</style>\n",
       "<table border=\"1\" class=\"dataframe\">\n",
       "  <thead>\n",
       "    <tr>\n",
       "      <th></th>\n",
       "      <th colspan=\"2\" halign=\"left\">input</th>\n",
       "      <th colspan=\"2\" halign=\"left\">increment</th>\n",
       "    </tr>\n",
       "    <tr>\n",
       "      <th></th>\n",
       "      <th>a</th>\n",
       "      <th>b</th>\n",
       "      <th>by</th>\n",
       "      <th>a</th>\n",
       "    </tr>\n",
       "    <tr>\n",
       "      <th>item</th>\n",
       "      <th></th>\n",
       "      <th></th>\n",
       "      <th></th>\n",
       "      <th></th>\n",
       "    </tr>\n",
       "  </thead>\n",
       "  <tbody>\n",
       "    <tr>\n",
       "      <th>0</th>\n",
       "      <td>1</td>\n",
       "      <td>2</td>\n",
       "      <td>1</td>\n",
       "      <td>2</td>\n",
       "    </tr>\n",
       "    <tr>\n",
       "      <th>1</th>\n",
       "      <td>2</td>\n",
       "      <td>1</td>\n",
       "      <td>1</td>\n",
       "      <td>3</td>\n",
       "    </tr>\n",
       "    <tr>\n",
       "      <th>0</th>\n",
       "      <td>1</td>\n",
       "      <td>2</td>\n",
       "      <td>2</td>\n",
       "      <td>3</td>\n",
       "    </tr>\n",
       "    <tr>\n",
       "      <th>1</th>\n",
       "      <td>2</td>\n",
       "      <td>1</td>\n",
       "      <td>2</td>\n",
       "      <td>4</td>\n",
       "    </tr>\n",
       "  </tbody>\n",
       "</table>\n",
       "</div>"
      ],
      "text/plain": [
       "     input    increment   \n",
       "         a  b        by  a\n",
       "item                      \n",
       "0        1  2         1  2\n",
       "1        2  1         1  3\n",
       "0        1  2         2  3\n",
       "1        2  1         2  4"
      ]
     },
     "execution_count": 8,
     "metadata": {},
     "output_type": "execute_result"
    }
   ],
   "source": [
    "result_df = result.to_frame()\n",
    "result_df"
   ]
  },
  {
   "cell_type": "markdown",
   "id": "0b585995",
   "metadata": {},
   "source": [
    "Note that this dataframe contains a 2-level column, with the first column level corresponding to the step name, and the second level corresponding to the outputs of each step. \n",
    "\n",
    "Working with multi-level columns is a bit different from the usual single-level column dataframe, but Google or your preferred Gen AI chatbot can help you figure out how to perform your favorite `pandas` operations with two-level columns. \n",
    "\n",
    "If you don't like the two level columns, you can drop the top level with `df.droplevel(0, axis=1)`. Alternatively, if you prefer to concatenate the first and second level column names into a single-level column, you can do something like this:"
   ]
  },
  {
   "cell_type": "code",
   "execution_count": 9,
   "id": "c09a5b11",
   "metadata": {},
   "outputs": [
    {
     "data": {
      "text/html": [
       "<div>\n",
       "<style scoped>\n",
       "    .dataframe tbody tr th:only-of-type {\n",
       "        vertical-align: middle;\n",
       "    }\n",
       "\n",
       "    .dataframe tbody tr th {\n",
       "        vertical-align: top;\n",
       "    }\n",
       "\n",
       "    .dataframe thead th {\n",
       "        text-align: right;\n",
       "    }\n",
       "</style>\n",
       "<table border=\"1\" class=\"dataframe\">\n",
       "  <thead>\n",
       "    <tr style=\"text-align: right;\">\n",
       "      <th></th>\n",
       "      <th>input_a</th>\n",
       "      <th>input_b</th>\n",
       "      <th>increment_by</th>\n",
       "      <th>increment_a</th>\n",
       "    </tr>\n",
       "    <tr>\n",
       "      <th>item</th>\n",
       "      <th></th>\n",
       "      <th></th>\n",
       "      <th></th>\n",
       "      <th></th>\n",
       "    </tr>\n",
       "  </thead>\n",
       "  <tbody>\n",
       "    <tr>\n",
       "      <th>0</th>\n",
       "      <td>1</td>\n",
       "      <td>2</td>\n",
       "      <td>1</td>\n",
       "      <td>2</td>\n",
       "    </tr>\n",
       "    <tr>\n",
       "      <th>1</th>\n",
       "      <td>2</td>\n",
       "      <td>1</td>\n",
       "      <td>1</td>\n",
       "      <td>3</td>\n",
       "    </tr>\n",
       "    <tr>\n",
       "      <th>0</th>\n",
       "      <td>1</td>\n",
       "      <td>2</td>\n",
       "      <td>2</td>\n",
       "      <td>3</td>\n",
       "    </tr>\n",
       "    <tr>\n",
       "      <th>1</th>\n",
       "      <td>2</td>\n",
       "      <td>1</td>\n",
       "      <td>2</td>\n",
       "      <td>4</td>\n",
       "    </tr>\n",
       "  </tbody>\n",
       "</table>\n",
       "</div>"
      ],
      "text/plain": [
       "      input_a  input_b  increment_by  increment_a\n",
       "item                                             \n",
       "0           1        2             1            2\n",
       "1           2        1             1            3\n",
       "0           1        2             2            3\n",
       "1           2        1             2            4"
      ]
     },
     "execution_count": 9,
     "metadata": {},
     "output_type": "execute_result"
    }
   ],
   "source": [
    "result_df.columns = ['_'.join(col) for col in result_df.columns]\n",
    "result_df"
   ]
  },
  {
   "cell_type": "markdown",
   "id": "ba67785f",
   "metadata": {},
   "source": [
    "## Concluding Remarks"
   ]
  },
  {
   "cell_type": "markdown",
   "id": "3997d3dd",
   "metadata": {},
   "source": [
    "Working with ARTKIT run results takes some practice, but we have found that the `RunResult` object is an incredibly useful way to structure the outputs of ARTKIT pipelines. We converged on this design after considerable practical experience.\n",
    "\n",
    "The [Examples](../../examples/index.rst) section of the ARTKIT documentation contains many useful illustrations of how to work with run results. We particularly recommend checking out [Single-Turn Attacks: Augmenting Beavertails](../../examples/safety/chatbot_safety_with_adversarial_augmentation/notebook.ipynb), which is full of useful patterns and code snippets."
   ]
  }
 ],
 "metadata": {
  "kernelspec": {
   "display_name": "Python 3 (ipykernel)",
   "language": "python",
   "name": "python3"
  },
  "language_info": {
   "codemirror_mode": {
    "name": "ipython",
    "version": 3
   },
   "file_extension": ".py",
   "mimetype": "text/x-python",
   "name": "python",
   "nbconvert_exporter": "python",
   "pygments_lexer": "ipython3",
   "version": "3.12.2"
  }
 },
 "nbformat": 4,
 "nbformat_minor": 5
}
