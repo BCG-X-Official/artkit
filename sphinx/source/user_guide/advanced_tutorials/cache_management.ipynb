{
 "cells": [
  {
   "cell_type": "markdown",
   "id": "0f116a33-2da9-4a6c-83d8-3316cda737e2",
   "metadata": {},
   "source": [
    "# Cache Management"
   ]
  },
  {
   "cell_type": "markdown",
   "id": "b1c2caa0-f721-4ae8-9ab1-f7c5d0a1c8d9",
   "metadata": {},
   "source": [
    "## Introduction\n",
    "\n",
    "When building your testing and evaluation pipeline, it is strongly recommended you take advantage of ARTKIT's built-in caching functionality. Caching model responses allows you to reference them later without needing to hit the API again — enabling consistency between runs and saving both time and money during development. "
   ]
  },
  {
   "cell_type": "markdown",
   "id": "ec7fed85-0aa0-450d-8a16-f7c721b29c4e",
   "metadata": {},
   "source": [
    "## Overview\n",
    "\n",
    "ARTKIT implements caching via model wrapper classes. This allows standardized caching implementation across models, with no changes to underlying behaviors. Caches are stored in an SQLite database, which is a lightweight, disk-based database that doesn't require separate server processes. \n",
    "\n",
    "Summarized below are some details on the classes used for the caching implementation:\n",
    "\n",
    "- `CachedGenAIModel` is an abstract wrapper class for an ARTKIT model. Concrete subclasses are introduced for different modalities:\n",
    "    - `CachedChatModel` adds a cache to a `ChatModel`\n",
    "    - `CachedCompletionModel` adds a cache to a `CompletionModel`\n",
    "    - `CachedDiffusionModel` adds a cache to a `DiffusionModel`\n",
    "    - `CachedVisionModel` adds a cache to a `VisionModel`\n",
    "- Cached model responses are stored in a `CacheDB` object. The `CacheDB` can be configured to store results in memory or in a SQLite database.\n",
    "- Responses in the `CacheDB` are indexed by the input message, chat history, system prompt, and all model parameters\n",
    "    - `CacheDB` also records the creation and last access time for each entry, which can be used for cache cleanup"
   ]
  },
  {
   "cell_type": "markdown",
   "id": "674e09b9-8494-410b-93bb-cda5c61a5c89",
   "metadata": {},
   "source": [
    "## Working with a Cached Model\n",
    "\n",
    "In this example, we'll demonstrate how to initialize a `CachedChatModel` and work with its `CacheDB`. We start by initializing a `CachedChatModel` that reads from an existing cache located in `cache/example_cache_gpt35.db`:"
   ]
  },
  {
   "cell_type": "code",
   "execution_count": 1,
   "id": "38f4665b-5fe3-47a6-a84f-c3529cda72d0",
   "metadata": {},
   "outputs": [],
   "source": [
    "# Basic setup and imports\n",
    "from datetime import datetime\n",
    "from dotenv import load_dotenv\n",
    "import logging\n",
    "import json\n",
    "import pandas as pd\n",
    "\n",
    "import artkit.api as ak\n",
    "\n",
    "load_dotenv()\n",
    "logging.basicConfig(level=logging.WARNING)\n",
    "pd.set_option(\"display.max_colwidth\", None)\n",
    "\n",
    "# Initialize a cached chat model\n",
    "cached_openai_llm = ak.CachedChatModel(\n",
    "    model=ak.OpenAIChat(model_id=\"gpt-3.5-turbo\"), \n",
    "    database=\"cache/cache_management.db\"\n",
    ")"
   ]
  },
  {
   "cell_type": "markdown",
   "id": "68fee0ac-1a11-4d2f-912d-f4c178c94ac7",
   "metadata": {},
   "source": [
    "**Basic model call:** When we call `get_response`, the model will automatically return a cached response if it exists for this `model_id` and `prompt`:"
   ]
  },
  {
   "cell_type": "code",
   "execution_count": 2,
   "id": "982fd4b8-4f79-4cd6-be91-36761e1be63b",
   "metadata": {},
   "outputs": [
    {
     "data": {
      "text/plain": [
       "['The color of the sky can vary depending on the time of day and weather conditions. During the day, the sky is typically blue, but it can appear different shades depending on the amount of moisture and particles in the atmosphere. At sunrise and sunset, the sky can range from pink and orange to red and purple. At night, the sky appears dark blue or black with twinkling stars.']"
      ]
     },
     "execution_count": 2,
     "metadata": {},
     "output_type": "execute_result"
    }
   ],
   "source": [
    "await cached_openai_llm.get_response(message=\"What color is the sky?\")"
   ]
  },
  {
   "cell_type": "markdown",
   "id": "60649b5e-248c-4325-9087-8dbb47728e41",
   "metadata": {},
   "source": [
    "We can validate that this response is also stored in the cache:"
   ]
  },
  {
   "cell_type": "code",
   "execution_count": 3,
   "id": "e3d0b0ac-ae94-45fa-aa15-e864933b5e93",
   "metadata": {},
   "outputs": [
    {
     "data": {
      "text/plain": [
       "['The color of the sky can vary depending on the time of day and weather conditions. During the day, the sky is typically blue, but it can appear different shades depending on the amount of moisture and particles in the atmosphere. At sunrise and sunset, the sky can range from pink and orange to red and purple. At night, the sky appears dark blue or black with twinkling stars.']"
      ]
     },
     "execution_count": 3,
     "metadata": {},
     "output_type": "execute_result"
    }
   ],
   "source": [
    "cached_openai_llm.cache.get_entry(model_id=\"gpt-3.5-turbo\", prompt=\"What color is the sky?\")"
   ]
  },
  {
   "cell_type": "markdown",
   "id": "70a81c34-00c0-4ee6-bae2-4f273e449cbc",
   "metadata": {},
   "source": [
    "**Model call with additional parameters:** If we update the system prompt on the model and pass additional model parameters to `get_response`, these settings will be used to index the new response:"
   ]
  },
  {
   "cell_type": "code",
   "execution_count": 4,
   "id": "0f1421d5-5321-41e9-b8eb-bfca2b17c918",
   "metadata": {},
   "outputs": [
    {
     "data": {
      "text/plain": [
       "[\"Blue fades into night\\nStars twinkle and moon rises\\nSky's palette shifts true\"]"
      ]
     },
     "execution_count": 4,
     "metadata": {},
     "output_type": "execute_result"
    }
   ],
   "source": [
    "await cached_openai_llm.with_system_prompt(\n",
    "    \"You only reply in haiku.\"\n",
    ").get_response(\n",
    "    message=\"What color is the sky?\", \n",
    "    temperature=0.8\n",
    ")"
   ]
  },
  {
   "cell_type": "code",
   "execution_count": 5,
   "id": "10984ca2-14fd-4059-94e3-03276ec8b6d7",
   "metadata": {},
   "outputs": [
    {
     "data": {
      "text/plain": [
       "[\"Blue fades into night\\nStars twinkle and moon rises\\nSky's palette shifts true\"]"
      ]
     },
     "execution_count": 5,
     "metadata": {},
     "output_type": "execute_result"
    }
   ],
   "source": [
    "cached_openai_llm.cache.get_entry(\n",
    "    model_id=\"gpt-3.5-turbo\", \n",
    "    prompt=\"What color is the sky?\", \n",
    "    _system_prompt=\"You only reply in haiku.\",\n",
    "    temperature=0.8\n",
    ")"
   ]
  },
  {
   "cell_type": "markdown",
   "id": "667c59e1-fd3b-421f-8d01-141bb94ea0c4",
   "metadata": {},
   "source": [
    "**Clearing the cache:** We can delete entries in the `CacheDB` by calling `clear_cache`, specifying `created_before` and `accessed_before` datetime parameters:"
   ]
  },
  {
   "cell_type": "code",
   "execution_count": 6,
   "id": "13d7d6e4-a34c-4cd7-be69-8573bda17ded",
   "metadata": {},
   "outputs": [],
   "source": [
    "# We won't actually clear the cache in this example, since we want the notebook to be re-runnable\n",
    "# cached_openai_llm.clear_cache(created_before=datetime.now())"
   ]
  },
  {
   "cell_type": "markdown",
   "id": "59b3f2aa-94c7-40ad-abda-d6f411775210",
   "metadata": {},
   "source": [
    "## CacheDB Structure"
   ]
  },
  {
   "cell_type": "markdown",
   "id": "1c0c0e06-a372-4204-8b0f-7107a716d337",
   "metadata": {},
   "source": [
    "To efficiently store and fetch cached responses, the `CacheDB` database is structured into four tables:\n",
    "\n",
    "- **ModelCache:** The cache id, model id, creation time, and access time\n",
    "- **ModelParams:** Parameters passed to the model -- note that each one is its own row\n",
    "- **UniqueStrings:** String parameters values passed to the model -- stored as a separate table to avoid duplication\n",
    "- **ModelResponses:** The model response for a set of parameters\n",
    "\n",
    "Since the `CacheDB` is connected to a SQLite database, we can query it directly from python:"
   ]
  },
  {
   "cell_type": "code",
   "execution_count": 7,
   "id": "9a2683b9-09ce-459f-a040-9501acf0ad25",
   "metadata": {},
   "outputs": [
    {
     "data": {
      "text/html": [
       "<div>\n",
       "<style scoped>\n",
       "    .dataframe tbody tr th:only-of-type {\n",
       "        vertical-align: middle;\n",
       "    }\n",
       "\n",
       "    .dataframe tbody tr th {\n",
       "        vertical-align: top;\n",
       "    }\n",
       "\n",
       "    .dataframe thead th {\n",
       "        text-align: right;\n",
       "    }\n",
       "</style>\n",
       "<table border=\"1\" class=\"dataframe\">\n",
       "  <thead>\n",
       "    <tr style=\"text-align: right;\">\n",
       "      <th></th>\n",
       "      <th>id</th>\n",
       "      <th>model_id</th>\n",
       "      <th>ctime</th>\n",
       "      <th>atime</th>\n",
       "      <th>cache_id</th>\n",
       "      <th>name</th>\n",
       "      <th>value_string_id</th>\n",
       "      <th>value_int</th>\n",
       "      <th>value_float</th>\n",
       "      <th>value</th>\n",
       "      <th>response</th>\n",
       "    </tr>\n",
       "  </thead>\n",
       "  <tbody>\n",
       "    <tr>\n",
       "      <th>0</th>\n",
       "      <td>1</td>\n",
       "      <td>gpt-3.5-turbo</td>\n",
       "      <td>2024-06-05 17:37:55</td>\n",
       "      <td>2024-06-06 02:13:14</td>\n",
       "      <td>1</td>\n",
       "      <td>_system_prompt</td>\n",
       "      <td>2.0</td>\n",
       "      <td>None</td>\n",
       "      <td>NaN</td>\n",
       "      <td>You only reply in haiku.</td>\n",
       "      <td>Blue fades into night\\nStars twinkle and moon rises\\nSky's palette shifts true</td>\n",
       "    </tr>\n",
       "    <tr>\n",
       "      <th>1</th>\n",
       "      <td>1</td>\n",
       "      <td>gpt-3.5-turbo</td>\n",
       "      <td>2024-06-05 17:37:55</td>\n",
       "      <td>2024-06-06 02:13:14</td>\n",
       "      <td>1</td>\n",
       "      <td>prompt</td>\n",
       "      <td>1.0</td>\n",
       "      <td>None</td>\n",
       "      <td>NaN</td>\n",
       "      <td>What color is the sky?</td>\n",
       "      <td>Blue fades into night\\nStars twinkle and moon rises\\nSky's palette shifts true</td>\n",
       "    </tr>\n",
       "    <tr>\n",
       "      <th>2</th>\n",
       "      <td>1</td>\n",
       "      <td>gpt-3.5-turbo</td>\n",
       "      <td>2024-06-05 17:37:55</td>\n",
       "      <td>2024-06-06 02:13:14</td>\n",
       "      <td>1</td>\n",
       "      <td>temperature</td>\n",
       "      <td>NaN</td>\n",
       "      <td>None</td>\n",
       "      <td>0.8</td>\n",
       "      <td>None</td>\n",
       "      <td>Blue fades into night\\nStars twinkle and moon rises\\nSky's palette shifts true</td>\n",
       "    </tr>\n",
       "    <tr>\n",
       "      <th>3</th>\n",
       "      <td>2</td>\n",
       "      <td>gpt-3.5-turbo</td>\n",
       "      <td>2024-06-06 02:13:14</td>\n",
       "      <td>2024-06-06 02:13:14</td>\n",
       "      <td>2</td>\n",
       "      <td>prompt</td>\n",
       "      <td>1.0</td>\n",
       "      <td>None</td>\n",
       "      <td>NaN</td>\n",
       "      <td>What color is the sky?</td>\n",
       "      <td>The color of the sky can vary depending on the time of day and weather conditions. During the day, the sky is typically blue, but it can appear different shades depending on the amount of moisture and particles in the atmosphere. At sunrise and sunset, the sky can range from pink and orange to red and purple. At night, the sky appears dark blue or black with twinkling stars.</td>\n",
       "    </tr>\n",
       "  </tbody>\n",
       "</table>\n",
       "</div>"
      ],
      "text/plain": [
       "   id       model_id                ctime                atime  cache_id  \\\n",
       "0   1  gpt-3.5-turbo  2024-06-05 17:37:55  2024-06-06 02:13:14         1   \n",
       "1   1  gpt-3.5-turbo  2024-06-05 17:37:55  2024-06-06 02:13:14         1   \n",
       "2   1  gpt-3.5-turbo  2024-06-05 17:37:55  2024-06-06 02:13:14         1   \n",
       "3   2  gpt-3.5-turbo  2024-06-06 02:13:14  2024-06-06 02:13:14         2   \n",
       "\n",
       "             name  value_string_id value_int  value_float  \\\n",
       "0  _system_prompt              2.0      None          NaN   \n",
       "1          prompt              1.0      None          NaN   \n",
       "2     temperature              NaN      None          0.8   \n",
       "3          prompt              1.0      None          NaN   \n",
       "\n",
       "                      value  \\\n",
       "0  You only reply in haiku.   \n",
       "1    What color is the sky?   \n",
       "2                      None   \n",
       "3    What color is the sky?   \n",
       "\n",
       "                                                                                                                                                                                                                                                                                                                                                                                    response  \n",
       "0                                                                                                                                                                                                                                                                                                             Blue fades into night\\nStars twinkle and moon rises\\nSky's palette shifts true  \n",
       "1                                                                                                                                                                                                                                                                                                             Blue fades into night\\nStars twinkle and moon rises\\nSky's palette shifts true  \n",
       "2                                                                                                                                                                                                                                                                                                             Blue fades into night\\nStars twinkle and moon rises\\nSky's palette shifts true  \n",
       "3  The color of the sky can vary depending on the time of day and weather conditions. During the day, the sky is typically blue, but it can appear different shades depending on the amount of moisture and particles in the atmosphere. At sunrise and sunset, the sky can range from pink and orange to red and purple. At night, the sky appears dark blue or black with twinkling stars.  "
      ]
     },
     "execution_count": 7,
     "metadata": {},
     "output_type": "execute_result"
    }
   ],
   "source": [
    "cursor = cached_openai_llm.cache.conn.execute(\n",
    "    \"\"\"\n",
    "    SELECT * FROM ModelCache MC\n",
    "    LEFT JOIN ModelParams MP on MC.id=MP.cache_id\n",
    "    LEFT JOIN UniqueStrings US on MP.value_string_id=US.id\n",
    "    LEFT JOIN ModelResponses MR on MC.id=MR.id\n",
    "    \"\"\"\n",
    ")\n",
    "\n",
    "rows = cursor.fetchall()\n",
    "column_names = [description[0] for description in cursor.description]\n",
    "\n",
    "pd.DataFrame([dict(zip(column_names, row)) for row in rows])"
   ]
  },
  {
   "cell_type": "markdown",
   "id": "85f2c581-c204-4d12-99bc-dd1f0e8f8b2f",
   "metadata": {},
   "source": [
    "## Concluding Remarks"
   ]
  },
  {
   "cell_type": "markdown",
   "id": "c3d09517-d288-4d77-8779-4be1427a8d7d",
   "metadata": {},
   "source": [
    "One of the powers of ARTKIT is that you don't really need to think about managing your caches -- everything is done automatically, so you can focus on building your tests. That said, if you're interested in learning more about how these features are implemented you can check out our guide to [Creating Custom Model Classes](creating_custom_model_classes.ipynb). And if you have ideas for new features or enhancements, please check out our [Contributor Guide](../../contributor_guide/index.rst)!"
   ]
  }
 ],
 "metadata": {
  "kernelspec": {
   "display_name": "Python 3 (ipykernel)",
   "language": "python",
   "name": "python3"
  },
  "language_info": {
   "codemirror_mode": {
    "name": "ipython",
    "version": 3
   },
   "file_extension": ".py",
   "mimetype": "text/x-python",
   "name": "python",
   "nbconvert_exporter": "python",
   "pygments_lexer": "ipython3",
   "version": "3.11.0"
  }
 },
 "nbformat": 4,
 "nbformat_minor": 5
}
