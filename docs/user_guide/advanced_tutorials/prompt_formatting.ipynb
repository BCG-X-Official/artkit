{
 "cells": [
  {
   "cell_type": "markdown",
   "id": "d797d2a1-2da5-4272-99f8-8894c1419788",
   "metadata": {},
   "source": [
    "# Prompt Formatting"
   ]
  },
  {
   "cell_type": "markdown",
   "id": "13615d03-da06-4587-9223-1ec56be1284b",
   "metadata": {},
   "source": [
    "## Introduction\n",
    "\n",
    "Prompt engineering is fundamental to Gen AI. Gen AI models are very sensitive to the precise language, structure, style, and formatting of prompts. \n",
    "\n",
    "For general guidance on writing strong prompts, we recommend consulting documentation on best practices from leading model providers:\n",
    "\n",
    "- OpenAI\n",
    "    - [Prompt Engineering](https://platform.openai.com/docs/guides/prompt-engineering)\n",
    "    - [Best Practices for Prompt Engineering with the OpenAI API](https://help.openai.com/en/articles/6654000-best-practices-for-prompt-engineering-with-the-openai-api)\n",
    "    - [Prompt Examples](https://platform.openai.com/docs/examples)\n",
    "- Anthropic\n",
    "    - [Prompt Engineering](https://docs.anthropic.com/en/docs/prompt-engineering)\n",
    "    - [Prompt Library](https://docs.anthropic.com/en/prompt-library/library)\n",
    "\n",
    "In this guide, we introduce a few 'gotchas' and tips for ensuring your prompts are formatted correctly in notebooks and Python scripts."
   ]
  },
  {
   "cell_type": "markdown",
   "id": "87f276f2-98cf-4ee6-92f4-bf00a19bd4b9",
   "metadata": {},
   "source": [
    "## Excess White Space\n",
    "\n",
    "It's a common error to define system prompts as a multi-line string within a python function, forgetting about the white space that is introduced before new lines. LLMs are sensitive to white space, and so this pattern could introduce unintended noise to your prompts:"
   ]
  },
  {
   "cell_type": "code",
   "execution_count": 1,
   "id": "f122d16d-b0af-47f9-b646-37755bc0581d",
   "metadata": {},
   "outputs": [
    {
     "name": "stdout",
     "output_type": "stream",
     "text": [
      "Line one.\n",
      "    Line two.\n",
      "    Uh-Oh!\n",
      "    \n"
     ]
    }
   ],
   "source": [
    "def create_prompt(exclamation):\n",
    "\n",
    "    prompt = f\"\"\"Line one.\n",
    "    Line two.\n",
    "    {exclamation}!\n",
    "    \"\"\"\n",
    "    \n",
    "    return prompt\n",
    "\n",
    "prompt = create_prompt(\"Uh-Oh\")\n",
    "\n",
    "print(prompt)"
   ]
  },
  {
   "cell_type": "markdown",
   "id": "81b071c8",
   "metadata": {},
   "source": [
    "Let's look at the raw string to see what is going on:"
   ]
  },
  {
   "cell_type": "code",
   "execution_count": 2,
   "id": "b341f266",
   "metadata": {},
   "outputs": [
    {
     "data": {
      "text/plain": [
       "'Line one.\\n    Line two.\\n    Uh-Oh!\\n    '"
      ]
     },
     "execution_count": 2,
     "metadata": {},
     "output_type": "execute_result"
    }
   ],
   "source": [
    "prompt"
   ]
  },
  {
   "cell_type": "markdown",
   "id": "8901a0e3",
   "metadata": {},
   "source": [
    "We can see that definition of the prompt within the `create_prompt` function has resulted in some unexpected white space at the start and end of lines. Specifically:\n",
    "\n",
    "1. The conventional 4-space Python function indentation has resulted in extra white space at the beginning of lines one and two.\n",
    "2. Extra white space is also present at the end of the third line.\n",
    "\n",
    "What can we do?"
   ]
  },
  {
   "cell_type": "markdown",
   "id": "db804557",
   "metadata": {},
   "source": [
    "## Best Practices\n",
    "\n",
    "Before introducing some specific options that avoid unwanted white space, it is worth highlighting the single most important best practice:\n",
    "\n",
    "> ALWAYS PRINT YOUR PROMPTS!!!\n",
    "\n",
    "If you don't print your prompts, it is very easy to miss unwanted white space in your prompts.\n",
    "\n",
    "With that established, let's look at a few ways you can define the prompt above in a way that avoids undesirable white space."
   ]
  },
  {
   "cell_type": "markdown",
   "id": "e821f8fa",
   "metadata": {},
   "source": [
    "### Option 1: Constants\n",
    "\n",
    "Part of the problem is that multi-line strings defined within Python functions must be indented to conform with Python coding conventions, but this results in extra white space which will be seen by the LLM. \n",
    "\n",
    "One solution is to define the prompt as a constant outside of the Python function. Note that we must also use backslashes to escape the extra white space which would otherwise be prepended to the first line and appended to the second line due to the implicit newlines:"
   ]
  },
  {
   "cell_type": "code",
   "execution_count": 3,
   "id": "2f5f959c",
   "metadata": {},
   "outputs": [
    {
     "name": "stdout",
     "output_type": "stream",
     "text": [
      "Line one.\n",
      "Line two.\n",
      "Nice!\n"
     ]
    }
   ],
   "source": [
    "PROMPT = \"\"\"\\\n",
    "Line one.\n",
    "Line two.\n",
    "{exclamation}!\\\n",
    "\"\"\"\n",
    "\n",
    "def create_prompt(exclamation):\n",
    "\n",
    "    prompt = PROMPT.format(exclamation=exclamation)\n",
    "    \n",
    "    return prompt\n",
    "\n",
    "prompt = create_prompt(\"Nice\")\n",
    "\n",
    "print(prompt)"
   ]
  },
  {
   "cell_type": "code",
   "execution_count": 4,
   "id": "34194801",
   "metadata": {},
   "outputs": [
    {
     "data": {
      "text/plain": [
       "'Line one.\\nLine two.\\nNice!'"
      ]
     },
     "execution_count": 4,
     "metadata": {},
     "output_type": "execute_result"
    }
   ],
   "source": [
    "prompt"
   ]
  },
  {
   "cell_type": "markdown",
   "id": "d093317a",
   "metadata": {},
   "source": [
    "### Option 2: String concat\n",
    "\n",
    "Another option is to use string concatenation within the Python function. This might make sense for very short prompts. Note that you must explicitly define newlines with this approach:"
   ]
  },
  {
   "cell_type": "code",
   "execution_count": 5,
   "id": "21d82940",
   "metadata": {},
   "outputs": [
    {
     "name": "stdout",
     "output_type": "stream",
     "text": [
      "Line one.\n",
      "Line two.\n",
      "Also works!\n"
     ]
    }
   ],
   "source": [
    "def create_prompt(exclamation):\n",
    "\n",
    "    prompt = (\n",
    "        \"Line one.\\n\"\n",
    "        \"Line two.\\n\"\n",
    "        f\"{exclamation}!\"\n",
    "    )\n",
    "    \n",
    "    return prompt\n",
    "\n",
    "prompt = create_prompt(\"Also works\")\n",
    "\n",
    "print(prompt)"
   ]
  },
  {
   "cell_type": "code",
   "execution_count": 6,
   "id": "4f5e6cd9",
   "metadata": {},
   "outputs": [
    {
     "data": {
      "text/plain": [
       "'Line one.\\nLine two.\\nAlso works!'"
      ]
     },
     "execution_count": 6,
     "metadata": {},
     "output_type": "execute_result"
    }
   ],
   "source": [
    "prompt"
   ]
  },
  {
   "cell_type": "markdown",
   "id": "9177c992-9f23-4fb7-beb2-040453e9c003",
   "metadata": {},
   "source": [
    "### Option 3: Load from YAML\n",
    "\n",
    "If you have a lot of long prompts in your testing suite, it may be best to store them in a config instead of defining them within Python scripts or notebooks.\n",
    "\n",
    "[YAML](https://pyyaml.org/wiki/PyYAMLDocumentation) is a config format that is popular, powerful, and easy to use. Below is a quick example of how you can load prompts from a YAML file. \n",
    "\n",
    "We have a YAML file located in `./data/prompt_config.yml` which contains the following text:\n",
    "\n",
    "```\n",
    "yaml_example: |\n",
    "  Line one.\n",
    "  Line two.\n",
    "  {exclamation}!\n",
    "```\n",
    "\n",
    "The vertical bar (`|`) indicates that newlines in the YAML file should be taken literally. \n",
    "\n",
    "We can load our YAML file like this:"
   ]
  },
  {
   "cell_type": "code",
   "execution_count": 7,
   "id": "f05c4c1e",
   "metadata": {},
   "outputs": [
    {
     "data": {
      "text/plain": [
       "{'yaml_example': 'Line one.\\nLine two.\\n{exclamation}!'}"
      ]
     },
     "execution_count": 7,
     "metadata": {},
     "output_type": "execute_result"
    }
   ],
   "source": [
    "import yaml\n",
    "\n",
    "def load_prompt_config():\n",
    "    cfg_path = './data/prompt_config.yml'\n",
    "    with open(cfg_path, 'r') as file:\n",
    "        prompts = yaml.safe_load(file)\n",
    "    return prompts\n",
    "\n",
    "prompt_config = load_prompt_config()\n",
    "\n",
    "prompt_config"
   ]
  },
  {
   "cell_type": "markdown",
   "id": "ed044735",
   "metadata": {},
   "source": [
    "And confirm that we get the desired result:"
   ]
  },
  {
   "cell_type": "code",
   "execution_count": 8,
   "id": "ef5b01aa-cfee-4082-a3c3-a3d3418f6181",
   "metadata": {},
   "outputs": [
    {
     "name": "stdout",
     "output_type": "stream",
     "text": [
      "Line one.\n",
      "Line two.\n",
      "Yay!\n"
     ]
    }
   ],
   "source": [
    "def create_prompt(exclamation):\n",
    "\n",
    "    prompt = prompt_config['yaml_example'].format(exclamation=exclamation)\n",
    "    \n",
    "    return prompt\n",
    "\n",
    "prompt = create_prompt('Yay')\n",
    "\n",
    "print(prompt)"
   ]
  },
  {
   "cell_type": "code",
   "execution_count": 9,
   "id": "25f75c4d",
   "metadata": {},
   "outputs": [
    {
     "data": {
      "text/plain": [
       "'Line one.\\nLine two.\\nYay!'"
      ]
     },
     "execution_count": 9,
     "metadata": {},
     "output_type": "execute_result"
    }
   ],
   "source": [
    "prompt"
   ]
  },
  {
   "cell_type": "markdown",
   "id": "3c9e5102",
   "metadata": {},
   "source": [
    "## Concluding Remarks\n",
    "\n",
    "We note that there are many other options for defining prompts outside your Python scripts, and the best solution depends on your project needs and personal preference. Other file formats which can be used to store prompts include TXT, CSV, JSON, TOML, and many others. \n",
    "\n",
    "There is no single right or wrong way to store prompts. The most important thing is to be consistent, and when you are developing... ALWAYS PRINT YOUR PROMPTS!"
   ]
  }
 ],
 "metadata": {
  "kernelspec": {
   "display_name": "Python 3 (ipykernel)",
   "language": "python",
   "name": "python3"
  },
  "language_info": {
   "codemirror_mode": {
    "name": "ipython",
    "version": 3
   },
   "file_extension": ".py",
   "mimetype": "text/x-python",
   "name": "python",
   "nbconvert_exporter": "python",
   "pygments_lexer": "ipython3",
   "version": "3.12.2"
  }
 },
 "nbformat": 4,
 "nbformat_minor": 5
}
